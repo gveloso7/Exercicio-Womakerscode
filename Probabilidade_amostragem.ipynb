{
  "nbformat": 4,
  "nbformat_minor": 0,
  "metadata": {
    "colab": {
      "provenance": [],
      "authorship_tag": "ABX9TyP6BF2Phg3/gHbAB97ZFtLE",
      "include_colab_link": true
    },
    "kernelspec": {
      "name": "python3",
      "display_name": "Python 3"
    },
    "language_info": {
      "name": "python"
    }
  },
  "cells": [
    {
      "cell_type": "markdown",
      "metadata": {
        "id": "view-in-github",
        "colab_type": "text"
      },
      "source": [
        "<a href=\"https://colab.research.google.com/github/gveloso7/Exercicio-Womakerscode/blob/main/Probabilidade_amostragem.ipynb\" target=\"_parent\"><img src=\"https://colab.research.google.com/assets/colab-badge.svg\" alt=\"Open In Colab\"/></a>"
      ]
    },
    {
      "cell_type": "code",
      "execution_count": 3,
      "metadata": {
        "id": "MikPYwJUshTt"
      },
      "outputs": [],
      "source": [
        "import pandas as pd\n",
        "import numpy as np\n",
        "import matplotlib.pyplot as plt\n",
        "import seaborn as sns\n",
        "from google.colab import files, drive\n",
        "from collections import defaultdict"
      ]
    },
    {
      "cell_type": "markdown",
      "source": [
        "1. Considere pessoas fluentes em inglês, qual a probabilidade\n",
        "complementar? Ou seja, qual a probabilidade de escolhermos uma pessoa\n",
        "aleatória e ela não ser fluente em inglês. Considere fluente quem tem o\n",
        "nível avançado.\n"
      ],
      "metadata": {
        "id": "yEcARGSWs1pc"
      }
    },
    {
      "cell_type": "code",
      "source": [
        "from google.colab import drive\n",
        "drive.mount('/content/drive')\n",
        "file_path = \"/content/drive/MyDrive/populacao_brasileira.csv\"\n",
        "df = pd.read_csv(file_path)"
      ],
      "metadata": {
        "colab": {
          "base_uri": "https://localhost:8080/"
        },
        "id": "9nM1d0b0s2hu",
        "outputId": "0e6ddfb6-ad6f-45a0-bbb9-3c35b001f61f"
      },
      "execution_count": 21,
      "outputs": [
        {
          "output_type": "stream",
          "name": "stdout",
          "text": [
            "Drive already mounted at /content/drive; to attempt to forcibly remount, call drive.mount(\"/content/drive\", force_remount=True).\n"
          ]
        }
      ]
    },
    {
      "cell_type": "code",
      "source": [
        "df.head(10)"
      ],
      "metadata": {
        "colab": {
          "base_uri": "https://localhost:8080/",
          "height": 363
        },
        "id": "7lzrmic6uxIq",
        "outputId": "2f76dd96-d0ab-4cd5-af70-98a331e4d02c"
      },
      "execution_count": 22,
      "outputs": [
        {
          "output_type": "execute_result",
          "data": {
            "text/plain": [
              "   Unnamed: 0 estado  idade escolaridade nível de proficiência em inglês  \\\n",
              "0           0     MA     56  Fundamental                   Intermediário   \n",
              "1           1     BA     46     Superior                          Básico   \n",
              "2           2     AM     32  Fundamental                   Intermediário   \n",
              "3           3     CE     60     Superior                          Básico   \n",
              "4           4     SE     25  Fundamental                        Avançado   \n",
              "5           5     AM     38  Fundamental                        Avançado   \n",
              "6           6     DF     56        Médio                   Intermediário   \n",
              "7           7     DF     36     Superior                        Avançado   \n",
              "8           8     PI     40  Fundamental                          Básico   \n",
              "9           9     AP     28     Superior                        Avançado   \n",
              "\n",
              "     renda sexo  \n",
              "0  4006.29    F  \n",
              "1  2423.11    M  \n",
              "2  3835.69    M  \n",
              "3  1870.29    M  \n",
              "4  3529.80    M  \n",
              "5  4441.57    F  \n",
              "6   528.36    F  \n",
              "7  2203.10    F  \n",
              "8  3577.07    F  \n",
              "9  2796.95    M  "
            ],
            "text/html": [
              "\n",
              "  <div id=\"df-b7613c52-1289-4aee-8242-ca36d3308d96\" class=\"colab-df-container\">\n",
              "    <div>\n",
              "<style scoped>\n",
              "    .dataframe tbody tr th:only-of-type {\n",
              "        vertical-align: middle;\n",
              "    }\n",
              "\n",
              "    .dataframe tbody tr th {\n",
              "        vertical-align: top;\n",
              "    }\n",
              "\n",
              "    .dataframe thead th {\n",
              "        text-align: right;\n",
              "    }\n",
              "</style>\n",
              "<table border=\"1\" class=\"dataframe\">\n",
              "  <thead>\n",
              "    <tr style=\"text-align: right;\">\n",
              "      <th></th>\n",
              "      <th>Unnamed: 0</th>\n",
              "      <th>estado</th>\n",
              "      <th>idade</th>\n",
              "      <th>escolaridade</th>\n",
              "      <th>nível de proficiência em inglês</th>\n",
              "      <th>renda</th>\n",
              "      <th>sexo</th>\n",
              "    </tr>\n",
              "  </thead>\n",
              "  <tbody>\n",
              "    <tr>\n",
              "      <th>0</th>\n",
              "      <td>0</td>\n",
              "      <td>MA</td>\n",
              "      <td>56</td>\n",
              "      <td>Fundamental</td>\n",
              "      <td>Intermediário</td>\n",
              "      <td>4006.29</td>\n",
              "      <td>F</td>\n",
              "    </tr>\n",
              "    <tr>\n",
              "      <th>1</th>\n",
              "      <td>1</td>\n",
              "      <td>BA</td>\n",
              "      <td>46</td>\n",
              "      <td>Superior</td>\n",
              "      <td>Básico</td>\n",
              "      <td>2423.11</td>\n",
              "      <td>M</td>\n",
              "    </tr>\n",
              "    <tr>\n",
              "      <th>2</th>\n",
              "      <td>2</td>\n",
              "      <td>AM</td>\n",
              "      <td>32</td>\n",
              "      <td>Fundamental</td>\n",
              "      <td>Intermediário</td>\n",
              "      <td>3835.69</td>\n",
              "      <td>M</td>\n",
              "    </tr>\n",
              "    <tr>\n",
              "      <th>3</th>\n",
              "      <td>3</td>\n",
              "      <td>CE</td>\n",
              "      <td>60</td>\n",
              "      <td>Superior</td>\n",
              "      <td>Básico</td>\n",
              "      <td>1870.29</td>\n",
              "      <td>M</td>\n",
              "    </tr>\n",
              "    <tr>\n",
              "      <th>4</th>\n",
              "      <td>4</td>\n",
              "      <td>SE</td>\n",
              "      <td>25</td>\n",
              "      <td>Fundamental</td>\n",
              "      <td>Avançado</td>\n",
              "      <td>3529.80</td>\n",
              "      <td>M</td>\n",
              "    </tr>\n",
              "    <tr>\n",
              "      <th>5</th>\n",
              "      <td>5</td>\n",
              "      <td>AM</td>\n",
              "      <td>38</td>\n",
              "      <td>Fundamental</td>\n",
              "      <td>Avançado</td>\n",
              "      <td>4441.57</td>\n",
              "      <td>F</td>\n",
              "    </tr>\n",
              "    <tr>\n",
              "      <th>6</th>\n",
              "      <td>6</td>\n",
              "      <td>DF</td>\n",
              "      <td>56</td>\n",
              "      <td>Médio</td>\n",
              "      <td>Intermediário</td>\n",
              "      <td>528.36</td>\n",
              "      <td>F</td>\n",
              "    </tr>\n",
              "    <tr>\n",
              "      <th>7</th>\n",
              "      <td>7</td>\n",
              "      <td>DF</td>\n",
              "      <td>36</td>\n",
              "      <td>Superior</td>\n",
              "      <td>Avançado</td>\n",
              "      <td>2203.10</td>\n",
              "      <td>F</td>\n",
              "    </tr>\n",
              "    <tr>\n",
              "      <th>8</th>\n",
              "      <td>8</td>\n",
              "      <td>PI</td>\n",
              "      <td>40</td>\n",
              "      <td>Fundamental</td>\n",
              "      <td>Básico</td>\n",
              "      <td>3577.07</td>\n",
              "      <td>F</td>\n",
              "    </tr>\n",
              "    <tr>\n",
              "      <th>9</th>\n",
              "      <td>9</td>\n",
              "      <td>AP</td>\n",
              "      <td>28</td>\n",
              "      <td>Superior</td>\n",
              "      <td>Avançado</td>\n",
              "      <td>2796.95</td>\n",
              "      <td>M</td>\n",
              "    </tr>\n",
              "  </tbody>\n",
              "</table>\n",
              "</div>\n",
              "    <div class=\"colab-df-buttons\">\n",
              "\n",
              "  <div class=\"colab-df-container\">\n",
              "    <button class=\"colab-df-convert\" onclick=\"convertToInteractive('df-b7613c52-1289-4aee-8242-ca36d3308d96')\"\n",
              "            title=\"Convert this dataframe to an interactive table.\"\n",
              "            style=\"display:none;\">\n",
              "\n",
              "  <svg xmlns=\"http://www.w3.org/2000/svg\" height=\"24px\" viewBox=\"0 -960 960 960\">\n",
              "    <path d=\"M120-120v-720h720v720H120Zm60-500h600v-160H180v160Zm220 220h160v-160H400v160Zm0 220h160v-160H400v160ZM180-400h160v-160H180v160Zm440 0h160v-160H620v160ZM180-180h160v-160H180v160Zm440 0h160v-160H620v160Z\"/>\n",
              "  </svg>\n",
              "    </button>\n",
              "\n",
              "  <style>\n",
              "    .colab-df-container {\n",
              "      display:flex;\n",
              "      gap: 12px;\n",
              "    }\n",
              "\n",
              "    .colab-df-convert {\n",
              "      background-color: #E8F0FE;\n",
              "      border: none;\n",
              "      border-radius: 50%;\n",
              "      cursor: pointer;\n",
              "      display: none;\n",
              "      fill: #1967D2;\n",
              "      height: 32px;\n",
              "      padding: 0 0 0 0;\n",
              "      width: 32px;\n",
              "    }\n",
              "\n",
              "    .colab-df-convert:hover {\n",
              "      background-color: #E2EBFA;\n",
              "      box-shadow: 0px 1px 2px rgba(60, 64, 67, 0.3), 0px 1px 3px 1px rgba(60, 64, 67, 0.15);\n",
              "      fill: #174EA6;\n",
              "    }\n",
              "\n",
              "    .colab-df-buttons div {\n",
              "      margin-bottom: 4px;\n",
              "    }\n",
              "\n",
              "    [theme=dark] .colab-df-convert {\n",
              "      background-color: #3B4455;\n",
              "      fill: #D2E3FC;\n",
              "    }\n",
              "\n",
              "    [theme=dark] .colab-df-convert:hover {\n",
              "      background-color: #434B5C;\n",
              "      box-shadow: 0px 1px 3px 1px rgba(0, 0, 0, 0.15);\n",
              "      filter: drop-shadow(0px 1px 2px rgba(0, 0, 0, 0.3));\n",
              "      fill: #FFFFFF;\n",
              "    }\n",
              "  </style>\n",
              "\n",
              "    <script>\n",
              "      const buttonEl =\n",
              "        document.querySelector('#df-b7613c52-1289-4aee-8242-ca36d3308d96 button.colab-df-convert');\n",
              "      buttonEl.style.display =\n",
              "        google.colab.kernel.accessAllowed ? 'block' : 'none';\n",
              "\n",
              "      async function convertToInteractive(key) {\n",
              "        const element = document.querySelector('#df-b7613c52-1289-4aee-8242-ca36d3308d96');\n",
              "        const dataTable =\n",
              "          await google.colab.kernel.invokeFunction('convertToInteractive',\n",
              "                                                    [key], {});\n",
              "        if (!dataTable) return;\n",
              "\n",
              "        const docLinkHtml = 'Like what you see? Visit the ' +\n",
              "          '<a target=\"_blank\" href=https://colab.research.google.com/notebooks/data_table.ipynb>data table notebook</a>'\n",
              "          + ' to learn more about interactive tables.';\n",
              "        element.innerHTML = '';\n",
              "        dataTable['output_type'] = 'display_data';\n",
              "        await google.colab.output.renderOutput(dataTable, element);\n",
              "        const docLink = document.createElement('div');\n",
              "        docLink.innerHTML = docLinkHtml;\n",
              "        element.appendChild(docLink);\n",
              "      }\n",
              "    </script>\n",
              "  </div>\n",
              "\n",
              "\n",
              "<div id=\"df-a64c9a2f-fe55-46b4-87ab-29c98ad00618\">\n",
              "  <button class=\"colab-df-quickchart\" onclick=\"quickchart('df-a64c9a2f-fe55-46b4-87ab-29c98ad00618')\"\n",
              "            title=\"Suggest charts\"\n",
              "            style=\"display:none;\">\n",
              "\n",
              "<svg xmlns=\"http://www.w3.org/2000/svg\" height=\"24px\"viewBox=\"0 0 24 24\"\n",
              "     width=\"24px\">\n",
              "    <g>\n",
              "        <path d=\"M19 3H5c-1.1 0-2 .9-2 2v14c0 1.1.9 2 2 2h14c1.1 0 2-.9 2-2V5c0-1.1-.9-2-2-2zM9 17H7v-7h2v7zm4 0h-2V7h2v10zm4 0h-2v-4h2v4z\"/>\n",
              "    </g>\n",
              "</svg>\n",
              "  </button>\n",
              "\n",
              "<style>\n",
              "  .colab-df-quickchart {\n",
              "      --bg-color: #E8F0FE;\n",
              "      --fill-color: #1967D2;\n",
              "      --hover-bg-color: #E2EBFA;\n",
              "      --hover-fill-color: #174EA6;\n",
              "      --disabled-fill-color: #AAA;\n",
              "      --disabled-bg-color: #DDD;\n",
              "  }\n",
              "\n",
              "  [theme=dark] .colab-df-quickchart {\n",
              "      --bg-color: #3B4455;\n",
              "      --fill-color: #D2E3FC;\n",
              "      --hover-bg-color: #434B5C;\n",
              "      --hover-fill-color: #FFFFFF;\n",
              "      --disabled-bg-color: #3B4455;\n",
              "      --disabled-fill-color: #666;\n",
              "  }\n",
              "\n",
              "  .colab-df-quickchart {\n",
              "    background-color: var(--bg-color);\n",
              "    border: none;\n",
              "    border-radius: 50%;\n",
              "    cursor: pointer;\n",
              "    display: none;\n",
              "    fill: var(--fill-color);\n",
              "    height: 32px;\n",
              "    padding: 0;\n",
              "    width: 32px;\n",
              "  }\n",
              "\n",
              "  .colab-df-quickchart:hover {\n",
              "    background-color: var(--hover-bg-color);\n",
              "    box-shadow: 0 1px 2px rgba(60, 64, 67, 0.3), 0 1px 3px 1px rgba(60, 64, 67, 0.15);\n",
              "    fill: var(--button-hover-fill-color);\n",
              "  }\n",
              "\n",
              "  .colab-df-quickchart-complete:disabled,\n",
              "  .colab-df-quickchart-complete:disabled:hover {\n",
              "    background-color: var(--disabled-bg-color);\n",
              "    fill: var(--disabled-fill-color);\n",
              "    box-shadow: none;\n",
              "  }\n",
              "\n",
              "  .colab-df-spinner {\n",
              "    border: 2px solid var(--fill-color);\n",
              "    border-color: transparent;\n",
              "    border-bottom-color: var(--fill-color);\n",
              "    animation:\n",
              "      spin 1s steps(1) infinite;\n",
              "  }\n",
              "\n",
              "  @keyframes spin {\n",
              "    0% {\n",
              "      border-color: transparent;\n",
              "      border-bottom-color: var(--fill-color);\n",
              "      border-left-color: var(--fill-color);\n",
              "    }\n",
              "    20% {\n",
              "      border-color: transparent;\n",
              "      border-left-color: var(--fill-color);\n",
              "      border-top-color: var(--fill-color);\n",
              "    }\n",
              "    30% {\n",
              "      border-color: transparent;\n",
              "      border-left-color: var(--fill-color);\n",
              "      border-top-color: var(--fill-color);\n",
              "      border-right-color: var(--fill-color);\n",
              "    }\n",
              "    40% {\n",
              "      border-color: transparent;\n",
              "      border-right-color: var(--fill-color);\n",
              "      border-top-color: var(--fill-color);\n",
              "    }\n",
              "    60% {\n",
              "      border-color: transparent;\n",
              "      border-right-color: var(--fill-color);\n",
              "    }\n",
              "    80% {\n",
              "      border-color: transparent;\n",
              "      border-right-color: var(--fill-color);\n",
              "      border-bottom-color: var(--fill-color);\n",
              "    }\n",
              "    90% {\n",
              "      border-color: transparent;\n",
              "      border-bottom-color: var(--fill-color);\n",
              "    }\n",
              "  }\n",
              "</style>\n",
              "\n",
              "  <script>\n",
              "    async function quickchart(key) {\n",
              "      const quickchartButtonEl =\n",
              "        document.querySelector('#' + key + ' button');\n",
              "      quickchartButtonEl.disabled = true;  // To prevent multiple clicks.\n",
              "      quickchartButtonEl.classList.add('colab-df-spinner');\n",
              "      try {\n",
              "        const charts = await google.colab.kernel.invokeFunction(\n",
              "            'suggestCharts', [key], {});\n",
              "      } catch (error) {\n",
              "        console.error('Error during call to suggestCharts:', error);\n",
              "      }\n",
              "      quickchartButtonEl.classList.remove('colab-df-spinner');\n",
              "      quickchartButtonEl.classList.add('colab-df-quickchart-complete');\n",
              "    }\n",
              "    (() => {\n",
              "      let quickchartButtonEl =\n",
              "        document.querySelector('#df-a64c9a2f-fe55-46b4-87ab-29c98ad00618 button');\n",
              "      quickchartButtonEl.style.display =\n",
              "        google.colab.kernel.accessAllowed ? 'block' : 'none';\n",
              "    })();\n",
              "  </script>\n",
              "</div>\n",
              "\n",
              "    </div>\n",
              "  </div>\n"
            ],
            "application/vnd.google.colaboratory.intrinsic+json": {
              "type": "dataframe",
              "variable_name": "df",
              "summary": "{\n  \"name\": \"df\",\n  \"rows\": 1000,\n  \"fields\": [\n    {\n      \"column\": \"Unnamed: 0\",\n      \"properties\": {\n        \"dtype\": \"number\",\n        \"std\": 288,\n        \"min\": 0,\n        \"max\": 999,\n        \"num_unique_values\": 1000,\n        \"samples\": [\n          521,\n          737,\n          740\n        ],\n        \"semantic_type\": \"\",\n        \"description\": \"\"\n      }\n    },\n    {\n      \"column\": \"estado\",\n      \"properties\": {\n        \"dtype\": \"category\",\n        \"num_unique_values\": 27,\n        \"samples\": [\n          \"AC\",\n          \"PA\",\n          \"SC\"\n        ],\n        \"semantic_type\": \"\",\n        \"description\": \"\"\n      }\n    },\n    {\n      \"column\": \"idade\",\n      \"properties\": {\n        \"dtype\": \"number\",\n        \"std\": 13,\n        \"min\": 18,\n        \"max\": 64,\n        \"num_unique_values\": 47,\n        \"samples\": [\n          24,\n          48,\n          54\n        ],\n        \"semantic_type\": \"\",\n        \"description\": \"\"\n      }\n    },\n    {\n      \"column\": \"escolaridade\",\n      \"properties\": {\n        \"dtype\": \"category\",\n        \"num_unique_values\": 4,\n        \"samples\": [\n          \"Superior\",\n          \"P\\u00f3s-gradua\\u00e7\\u00e3o\",\n          \"Fundamental\"\n        ],\n        \"semantic_type\": \"\",\n        \"description\": \"\"\n      }\n    },\n    {\n      \"column\": \"n\\u00edvel de profici\\u00eancia em ingl\\u00eas\",\n      \"properties\": {\n        \"dtype\": \"category\",\n        \"num_unique_values\": 3,\n        \"samples\": [\n          \"Intermedi\\u00e1rio\",\n          \"B\\u00e1sico\",\n          \"Avan\\u00e7ado\"\n        ],\n        \"semantic_type\": \"\",\n        \"description\": \"\"\n      }\n    },\n    {\n      \"column\": \"renda\",\n      \"properties\": {\n        \"dtype\": \"number\",\n        \"std\": 996.5722393121418,\n        \"min\": 103.74,\n        \"max\": 5632.38,\n        \"num_unique_values\": 998,\n        \"samples\": [\n          2752.82,\n          4218.76,\n          2244.62\n        ],\n        \"semantic_type\": \"\",\n        \"description\": \"\"\n      }\n    },\n    {\n      \"column\": \"sexo\",\n      \"properties\": {\n        \"dtype\": \"category\",\n        \"num_unique_values\": 2,\n        \"samples\": [\n          \"M\",\n          \"F\"\n        ],\n        \"semantic_type\": \"\",\n        \"description\": \"\"\n      }\n    }\n  ]\n}"
            }
          },
          "metadata": {},
          "execution_count": 22
        }
      ]
    },
    {
      "cell_type": "code",
      "source": [
        "total = len(df)\n",
        "\n",
        "# Filtrando apenas as linhas onde a coluna \"nível de proficiência em inglês\"\n",
        "fluentes = df[df[\"nível de proficiência em inglês\"] == \"Avançado\"].shape[0]\n",
        "\n",
        "# Probabilidade complementar (não fluentes)\n",
        "nao_fluente = 1 - (fluentes / total)\n",
        "\n",
        "print(f\"Probabilidade de escolha de uma pessoa não fluente é de: {nao_fluente:.2%}\")"
      ],
      "metadata": {
        "colab": {
          "base_uri": "https://localhost:8080/"
        },
        "id": "4wG1QIbS7S4Z",
        "outputId": "db88a010-8707-4f8c-fb07-b0cb612dce89"
      },
      "execution_count": 42,
      "outputs": [
        {
          "output_type": "stream",
          "name": "stdout",
          "text": [
            "Probabilidade de escolha de uma pessoa não fluente é de: 65.60%\n"
          ]
        }
      ]
    },
    {
      "cell_type": "markdown",
      "source": [
        "2. Se uma pessoa escolhida aleatoriamente for de Alagoas ou do Pará, qual\n",
        "é a probabilidade de ela ter uma renda superior a 5 mil reais?"
      ],
      "metadata": {
        "id": "eUT5HYkR1pzx"
      }
    },
    {
      "cell_type": "code",
      "source": [
        "\n",
        "# Filtrar pessoas de Alagoas (AL) ou Pará (PA)\n",
        "df_al_pa = df[df[\"estado\"].isin([\"AL\", \"PA\"])]\n",
        "\n",
        "# Contagem total de pessoas desses estados\n",
        "total_al_pa = len(df_al_pa)\n",
        "\n",
        "# Contagem de pessoas desses estados com renda superior a 5 mil reais\n",
        "renda_superior_5k = df_al_pa[df_al_pa[\"renda\"] > 5000].shape[0]\n",
        "\n",
        "# Probabilidade de ter renda superior a 5 mil reais\n",
        "prob_renda_superior_5k = renda_superior_5k / total_al_pa\n",
        "\n",
        "print(f\" A probabilidade de algém do AL ou PA ter renda superior a 5K é de: {prob_renda_superior_5k:.2%}\")"
      ],
      "metadata": {
        "colab": {
          "base_uri": "https://localhost:8080/"
        },
        "id": "bLJDxDXID6Jg",
        "outputId": "63c64c3f-4b77-4747-8034-ba0617e26e04"
      },
      "execution_count": 48,
      "outputs": [
        {
          "output_type": "stream",
          "name": "stdout",
          "text": [
            " A probabilidade de algém do AL ou PA ter renda superior a 5K é de: 5.06%\n"
          ]
        }
      ]
    },
    {
      "cell_type": "markdown",
      "source": [
        "3. Descubra a probabilidade de uma pessoa, residente no estado do\n",
        "Amazonas, ter ensino superior completo (considerando apenas a\n",
        "escolaridade classificada como 'Superior'). Qual a probabilidade da quinta\n",
        "pessoa amazonense que você conversar ter ensino superior completo?"
      ],
      "metadata": {
        "id": "oML7Fpq-EYk0"
      }
    },
    {
      "cell_type": "code",
      "source": [
        "\n",
        "# Filtrar apenas pessoas do Amazonas (AM)\n",
        "df_amazonas = df[df[\"estado\"] == \"AM\"]\n",
        "\n",
        "# Contagem total de pessoas do Amazonas\n",
        "total_amazonas = len(df_amazonas)\n",
        "\n",
        "# Contagem de pessoas do Amazonas com ensino superior\n",
        "superior_amazonas = df_amazonas[df_amazonas[\"escolaridade\"] == \"Superior\"].shape[0]\n",
        "\n",
        "# Probabilidade de ter ensino superior\n",
        "prob_superior_amazonas = superior_amazonas / total_amazonas\n",
        "\n",
        "# Probabilidade da quinta pessoa amazonense ter ensino superior (distribuição geométrica)\n",
        "prob_quinta_pessoa = (1 - prob_superior_amazonas) ** 4 * prob_superior_amazonas\n",
        "\n",
        "prob_superior_amazonas, prob_quinta_pessoa\n",
        "\n",
        "print(f\" As probabilidades de um residente amazonense ter ensino superior completo e da quinta pessoa amazonense ter ensino superior completo são de: {prob_superior_amazonas:.2%} e {prob_quinta_pessoa:.2%} respectivamente\")"
      ],
      "metadata": {
        "colab": {
          "base_uri": "https://localhost:8080/"
        },
        "id": "OndxDQvjEh5x",
        "outputId": "6e6cee41-43e0-4b46-fd40-d14d862d46cd"
      },
      "execution_count": 49,
      "outputs": [
        {
          "output_type": "stream",
          "name": "stdout",
          "text": [
            " As probabilidades de um residente amazonense ter ensino superior completo e da quinta pessoa amazonense ter ensino superior completo são de: 23.68% e 8.03% respectivamente\n"
          ]
        }
      ]
    },
    {
      "cell_type": "markdown",
      "source": [
        "4. Considerando a renda das pessoas do nosso conjunto, podemos dizer\n",
        "que a renda de uma pessoa brasileira está na sua maioria em que faixa\n",
        "(faça faixa de 1.500 reais)? Qual é a sua função densidade de probabilidade?\n",
        "5. Calcule a média e a variância da renda da amostra. Depois faça a\n",
        "distribuição normal, inclua o gráfico.\n"
      ],
      "metadata": {
        "id": "0v4V5PzRGNuN"
      }
    },
    {
      "cell_type": "code",
      "source": [
        "# 5. Cálculo da média e variância da renda\n",
        "media_renda = df[\"renda\"].mean()\n",
        "variancia_renda = df[\"renda\"].var()\n",
        "desvio_padrao_renda = np.sqrt(variancia_renda)\n",
        "\n",
        "# Criar a distribuição normal com base na média e no desvio padrão\n",
        "x = np.linspace(df[\"renda\"].min(), df[\"renda\"].max(), 100)\n",
        "pdf = stats.norm.pdf(x, media_renda, desvio_padrao_renda)\n",
        "\n",
        "# Plotar a distribuição normal e o histograma dos dados reais\n",
        "plt.figure(figsize=(8,5))\n",
        "plt.plot(x, pdf, label=\"Distribuição Normal\", color=\"blue\")\n",
        "sns.histplot(df[\"renda\"], kde=True, stat=\"density\", bins=30, color=\"orange\", alpha=0.6, label=\"Dados reais\")\n",
        "plt.xlabel(\"Renda (R$)\")\n",
        "plt.ylabel(\"Densidade\")\n",
        "plt.title(\"Distribuição Normal da Renda\")\n",
        "plt.legend()\n",
        "plt.grid(True)\n",
        "plt.show()\n",
        "\n",
        "\n",
        "print(f\"\\n{media_renda}, {variancia_renda}\")"
      ],
      "metadata": {
        "colab": {
          "base_uri": "https://localhost:8080/",
          "height": 522
        },
        "id": "5V4Y56zVGQ0-",
        "outputId": "22025404-d587-4c18-ae51-2a440e857154"
      },
      "execution_count": 52,
      "outputs": [
        {
          "output_type": "display_data",
          "data": {
            "text/plain": [
              "<Figure size 800x500 with 1 Axes>"
            ],
            "image/png": "[encoded data removed]"
          },
          "metadata": {}
        },
        {
          "output_type": "stream",
          "name": "stdout",
          "text": [
            "\n",
            "3082.5371800000003, 993156.228167617\n"
          ]
        }
      ]
    },
    {
      "cell_type": "markdown",
      "source": [
        "6. Primeiro considere a probabilidade encontrada no nosso conjunto de\n",
        "pessoas com escolaridade de pós-graduação. Considerando a amostra de\n",
        "população brasileira com 1 milhão de habitantes, qual a probabilidade de\n",
        "encontrarmos 243 mil pessoas com pós-graduação?"
      ],
      "metadata": {
        "id": "HCnY3cgYMoUm"
      }
    },
    {
      "cell_type": "code",
      "source": [
        "# Proporção de pessoas com pós-graduação na amostra\n",
        "total_pessoas = len(df)\n",
        "pos_graduacao = df[df[\"escolaridade\"] == \"Pós-graduação\"].shape[0]\n",
        "prob_pos_graduacao = pos_graduacao / total_pessoas\n",
        "\n",
        "# Probabilidade de encontrar 243 mil pessoas em uma população de 1 milhão (distribuição binomial)\n",
        "populacao_total = 1_000_000\n",
        "pessoas_esperadas = 243_000\n",
        "\n",
        "# Usar a distribuição binomial para calcular a probabilidade\n",
        "prob_243k = stats.binom.pmf(pessoas_esperadas, populacao_total, prob_pos_graduacao)\n",
        "\n",
        "prob_pos_graduacao, prob_243k\n"
      ],
      "metadata": {
        "colab": {
          "base_uri": "https://localhost:8080/"
        },
        "id": "AQnkWUErMmUU",
        "outputId": "1fa38b28-d375-4e18-9dfd-2808c4740935"
      },
      "execution_count": 57,
      "outputs": [
        {
          "output_type": "execute_result",
          "data": {
            "text/plain": [
              "(0.253, np.float64(1.1104854289794913e-119))"
            ]
          },
          "metadata": {},
          "execution_count": 57
        }
      ]
    },
    {
      "cell_type": "markdown",
      "source": [
        "7. Somando as densidades nós temos a função de densida de acumulada.\n",
        "Considerando a coluna ‘Escolaridade’ faça a função de densidade\n",
        "acumulada discreta para cada nível de escolaridade."
      ],
      "metadata": {
        "id": "D9WEFvOoJ3B3"
      }
    },
    {
      "cell_type": "code",
      "source": [
        "\n",
        "# Contagem de cada nível de escolaridade\n",
        "escolaridade_counts = df[\"escolaridade\"].value_counts(normalize=True).sort_index()\n",
        "\n",
        "# Criar a função de densidade acumulada (CDF)\n",
        "cdf_escolaridade = escolaridade_counts.cumsum()\n",
        "\n",
        "# Exibir os valores calculados\n",
        "cdf_escolaridade\n"
      ],
      "metadata": {
        "colab": {
          "base_uri": "https://localhost:8080/",
          "height": 241
        },
        "id": "fEzCtZm6JqTi",
        "outputId": "df23dfa5-3cc0-4cd4-eb65-da8d4562c933"
      },
      "execution_count": 53,
      "outputs": [
        {
          "output_type": "execute_result",
          "data": {
            "text/plain": [
              "escolaridade\n",
              "Fundamental      0.266\n",
              "Médio            0.504\n",
              "Pós-graduação    0.757\n",
              "Superior         1.000\n",
              "Name: proportion, dtype: float64"
            ],
            "text/html": [
              "<div>\n",
              "<style scoped>\n",
              "    .dataframe tbody tr th:only-of-type {\n",
              "        vertical-align: middle;\n",
              "    }\n",
              "\n",
              "    .dataframe tbody tr th {\n",
              "        vertical-align: top;\n",
              "    }\n",
              "\n",
              "    .dataframe thead th {\n",
              "        text-align: right;\n",
              "    }\n",
              "</style>\n",
              "<table border=\"1\" class=\"dataframe\">\n",
              "  <thead>\n",
              "    <tr style=\"text-align: right;\">\n",
              "      <th></th>\n",
              "      <th>proportion</th>\n",
              "    </tr>\n",
              "    <tr>\n",
              "      <th>escolaridade</th>\n",
              "      <th></th>\n",
              "    </tr>\n",
              "  </thead>\n",
              "  <tbody>\n",
              "    <tr>\n",
              "      <th>Fundamental</th>\n",
              "      <td>0.266</td>\n",
              "    </tr>\n",
              "    <tr>\n",
              "      <th>Médio</th>\n",
              "      <td>0.504</td>\n",
              "    </tr>\n",
              "    <tr>\n",
              "      <th>Pós-graduação</th>\n",
              "      <td>0.757</td>\n",
              "    </tr>\n",
              "    <tr>\n",
              "      <th>Superior</th>\n",
              "      <td>1.000</td>\n",
              "    </tr>\n",
              "  </tbody>\n",
              "</table>\n",
              "</div><br><label><b>dtype:</b> float64</label>"
            ]
          },
          "metadata": {},
          "execution_count": 53
        }
      ]
    },
    {
      "cell_type": "markdown",
      "source": [
        "8. Qual a margem de erro amostral da proporção populacional\n",
        "considerando a proporção de pessoas com nível de inglês intermediário?"
      ],
      "metadata": {
        "id": "we8AStx5MDSV"
      }
    },
    {
      "cell_type": "code",
      "source": [
        "from math import sqrt\n",
        "\n",
        "# Proporção de pessoas com inglês intermediário\n",
        "intermediario = df[df[\"nível de proficiência em inglês\"] == \"Intermediário\"].shape[0]\n",
        "p_intermediario = intermediario / total_pessoas\n",
        "\n",
        "# Nível de confiança de 95% (Z = 1.96)\n",
        "z = 1.96\n",
        "\n",
        "# Cálculo da margem de erro\n",
        "margem_erro = z * sqrt((p_intermediario * (1 - p_intermediario)) / total_pessoas)\n",
        "\n",
        "print(p_intermediario, margem_erro)\n"
      ],
      "metadata": {
        "colab": {
          "base_uri": "https://localhost:8080/"
        },
        "id": "Aw39jtJhMB01",
        "outputId": "8bd1eaaa-ed65-4a11-dbf8-2a9e36ba7604"
      },
      "execution_count": 56,
      "outputs": [
        {
          "output_type": "execute_result",
          "data": {
            "text/plain": [
              "(0.329, 0.029121603225097343)"
            ]
          },
          "metadata": {},
          "execution_count": 56
        }
      ]
    },
    {
      "cell_type": "markdown",
      "source": [
        "9. Calcula a renda da população. Qual a probabilidade de encontrar 60\n",
        "pessoas com uma renda mil reais superior à média?\n"
      ],
      "metadata": {
        "id": "pWxf_05PK8GN"
      }
    },
    {
      "cell_type": "code",
      "source": [
        "\n",
        "# Definir a renda alvo (média + 1000)\n",
        "renda_alvo = media_renda + 1000\n",
        "\n",
        "# Probabilidade de uma pessoa ter renda maior que o valor alvo (utilizando distribuição normal)\n",
        "prob_renda_superior = 1 - stats.norm.cdf(renda_alvo, media_renda, desvio_padrao_renda)\n",
        "\n",
        "# Probabilidade de encontrar exatamente 60 pessoas com essa renda (distribuição binomial)\n",
        "prob_60_pessoas = stats.binom.pmf(60, total_pessoas, prob_renda_superior)\n",
        "\n",
        "print(prob_renda_superior, prob_60_pessoas)\n"
      ],
      "metadata": {
        "colab": {
          "base_uri": "https://localhost:8080/"
        },
        "id": "0c_lWBmeKUpb",
        "outputId": "8a06ddbd-5ff8-4f29-8cef-b4745856c370"
      },
      "execution_count": 54,
      "outputs": [
        {
          "output_type": "execute_result",
          "data": {
            "text/plain": [
              "(np.float64(0.15782441468557828), np.float64(1.1597038406783114e-21))"
            ]
          },
          "metadata": {},
          "execution_count": 54
        }
      ]
    },
    {
      "cell_type": "markdown",
      "source": [
        "10. Qual é a probabilidade de escolhermos uma pessoa residente na região\n",
        "Sudeste que seja homem, tenha apenas ensino fundamental completo e\n",
        "possua renda mensal superior a 2 mil reais?\n"
      ],
      "metadata": {
        "id": "vwn97OVeKssW"
      }
    },
    {
      "cell_type": "code",
      "source": [
        "# Definir os estados do Sudeste\n",
        "estados_sudeste = [\"SP\", \"RJ\", \"MG\", \"ES\"]\n",
        "\n",
        "# Filtrar o conjunto de dados conforme os critérios\n",
        "filtro_sudeste = df[\n",
        "    (df[\"estado\"].isin(estados_sudeste)) &\n",
        "    (df[\"sexo\"] == \"M\") &\n",
        "    (df[\"escolaridade\"] == \"Fundamental\") &\n",
        "    (df[\"renda\"] > 2000)\n",
        "]\n",
        "\n",
        "# Calcular a probabilidade\n",
        "prob_sudeste_homem_fundamental_renda = len(filtro_sudeste) / total_pessoas\n",
        "\n",
        "print(prob_sudeste_homem_fundamental_renda)\n"
      ],
      "metadata": {
        "colab": {
          "base_uri": "https://localhost:8080/"
        },
        "id": "bpMnMGZbKtfX",
        "outputId": "68d71be8-5f58-42a3-fdd3-4417a66c5d30"
      },
      "execution_count": 55,
      "outputs": [
        {
          "output_type": "execute_result",
          "data": {
            "text/plain": [
              "0.019"
            ]
          },
          "metadata": {},
          "execution_count": 55
        }
      ]
    }
  ]
}